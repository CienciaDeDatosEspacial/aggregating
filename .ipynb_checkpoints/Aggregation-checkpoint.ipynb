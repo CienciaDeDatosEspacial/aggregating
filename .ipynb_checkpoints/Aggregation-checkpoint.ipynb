{
 "cells": [
  {
   "cell_type": "markdown",
   "id": "2e39e0eb",
   "metadata": {
    "id": "2e39e0eb"
   },
   "source": [
    "<center><img src=\"https://i.imgur.com/zRrFdsf.png\" width=\"700\"></center>\n",
    "\n",
    "\n",
    "<a id='home'></a>\n",
    "_____\n",
    "\n"
   ]
  },
  {
   "cell_type": "markdown",
   "id": "68b85389",
   "metadata": {
    "id": "68b85389"
   },
   "source": [
    "## Aggregation\n",
    "\n",
    "Sometimes, we need to reorganize the data by groups. One of those columns is the category that represents the group. In the previous table, region is an attribute of country; but we can turn the table from a table countries to a table of regions:"
   ]
  },
  {
   "cell_type": "code",
   "execution_count": null,
   "id": "da3838ed",
   "metadata": {
    "id": "da3838ed",
    "outputId": "86bad335-e195-4c7d-f777-2ced226c5f43"
   },
   "outputs": [],
   "source": [
    "import os, pandas as pd\n",
    "fragcia=pd.read_csv(\"https://raw.githubusercontent.com/CienciaDeDatosEspacial/merging/main/FragilityCia_isos.csv\")\n",
    "fragcia.info()"
   ]
  },
  {
   "cell_type": "markdown",
   "id": "0e971588-5f18-4a20-92d9-54f50b0441f5",
   "metadata": {},
   "source": [
    "Let's aggregate by region, and the variables of region will represent the mean of the countries in each region:"
   ]
  },
  {
   "cell_type": "code",
   "execution_count": null,
   "id": "670aeab4",
   "metadata": {
    "id": "670aeab4",
    "outputId": "de1e9a8a-c285-4f4a-9489-b3bbb1bc5f5d"
   },
   "outputs": [],
   "source": [
    "# mean of cases by region\n",
    "varsAggregated=['fragility','co2','ForestRev_gdp']\n",
    "functionForVars='mean'\n",
    "fragcia.groupby('region')[varsAggregated].agg(functionForVars)"
   ]
  },
  {
   "cell_type": "markdown",
   "id": "03882ef8-2fab-4982-b9a7-1abd93a7ed0c",
   "metadata": {},
   "source": [
    "Pandas is very flexible, we could add more statistics easily:"
   ]
  },
  {
   "cell_type": "code",
   "execution_count": null,
   "id": "3b031585",
   "metadata": {
    "id": "3b031585",
    "outputId": "e158282c-b660-4062-c18e-33c3d98dd06f"
   },
   "outputs": [],
   "source": [
    "# more complex\n",
    "functionForVars=['mean','min','max']\n",
    "fragciaAGG=fragcia.groupby('region')[varsAggregated].agg(functionForVars)\n",
    "\n",
    "fragciaAGG"
   ]
  },
  {
   "cell_type": "markdown",
   "id": "602a2a29-87e0-4f66-a2c5-0162f0bc2a82",
   "metadata": {},
   "source": [
    "Notice the structure:"
   ]
  },
  {
   "cell_type": "code",
   "execution_count": null,
   "id": "96f43efa-1027-4c5b-9f5c-67074f4e0421",
   "metadata": {},
   "outputs": [],
   "source": [
    "fragciaAGG.info()"
   ]
  },
  {
   "cell_type": "markdown",
   "id": "38ffd451-1137-4270-a238-b43753a5f2ee",
   "metadata": {},
   "source": [
    "As you see:\n",
    "* The region is the row names (index)\n",
    "* The column names is multi-index"
   ]
  },
  {
   "cell_type": "code",
   "execution_count": null,
   "id": "5904f075",
   "metadata": {
    "id": "5904f075",
    "outputId": "bbb49564-2a1d-48a8-ef03-4262c1f66d54"
   },
   "outputs": [],
   "source": [
    "fragciaAGG.columns"
   ]
  },
  {
   "cell_type": "markdown",
   "id": "6ed61339",
   "metadata": {
    "id": "6ed61339"
   },
   "source": [
    "Even though pandas can work well, when exporting files to another application, you may prefer just simple indexes. So, let me show you how to **flat** the indexes:"
   ]
  },
  {
   "cell_type": "code",
   "execution_count": null,
   "id": "b84c017a",
   "metadata": {
    "id": "b84c017a",
    "outputId": "eab0cac7-6263-4e11-997e-59a8b971f4e2"
   },
   "outputs": [],
   "source": [
    "fragciaAGG.columns.to_flat_index()"
   ]
  },
  {
   "cell_type": "code",
   "execution_count": null,
   "id": "0e9d6add-09f9-45e8-819b-91d9a19b7507",
   "metadata": {},
   "outputs": [],
   "source": [
    "['_'.join(col) for col in fragciaAGG.columns.to_flat_index()]"
   ]
  },
  {
   "cell_type": "markdown",
   "id": "179c6d4e",
   "metadata": {
    "id": "179c6d4e"
   },
   "source": [
    "Then,"
   ]
  },
  {
   "cell_type": "code",
   "execution_count": null,
   "id": "58c6c360",
   "metadata": {
    "id": "58c6c360",
    "outputId": "cb3cafe9-e7f3-4c3e-961a-3836461aedfb"
   },
   "outputs": [],
   "source": [
    "fragciaAGG.columns=['_'.join(col) for col in fragciaAGG.columns.to_flat_index()]\n",
    "fragciaAGG"
   ]
  },
  {
   "cell_type": "markdown",
   "id": "831686cb",
   "metadata": {
    "id": "831686cb"
   },
   "source": [
    "The last step would be to have _region_ as a column, not as the row index:"
   ]
  },
  {
   "cell_type": "code",
   "execution_count": null,
   "id": "49d2cc6b",
   "metadata": {
    "id": "49d2cc6b",
    "outputId": "c8b07cda-babd-4b6d-e0ae-a3b43bd2c4b7"
   },
   "outputs": [],
   "source": [
    "fragciaAGG.reset_index(drop=False, inplace=True) #you don't drop it!!\n",
    "fragciaAGG"
   ]
  },
  {
   "cell_type": "code",
   "execution_count": null,
   "id": "db7b0974-41ce-4d7c-9d39-7c623be3acf1",
   "metadata": {},
   "outputs": [],
   "source": []
  }
 ],
 "metadata": {
  "colab": {
   "provenance": []
  },
  "kernelspec": {
   "display_name": "Python 3 (ipykernel)",
   "language": "python",
   "name": "python3"
  },
  "language_info": {
   "codemirror_mode": {
    "name": "ipython",
    "version": 3
   },
   "file_extension": ".py",
   "mimetype": "text/x-python",
   "name": "python",
   "nbconvert_exporter": "python",
   "pygments_lexer": "ipython3",
   "version": "3.11.5"
  }
 },
 "nbformat": 4,
 "nbformat_minor": 5
}
